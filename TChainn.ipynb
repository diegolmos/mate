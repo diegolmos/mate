{
 "cells": [
  {
   "cell_type": "code",
   "execution_count": null,
   "metadata": {},
   "outputs": [],
   "source": [
    "import ROOT\n",
    "import os\n",
    "\n",
    "\n",
    "chain = ROOT.TChain(\"tree\")  \n",
    "carpeta =\".\" \n",
    "archivos_root = [f for f in os.listdir(carpeta) if f.endswith(\".root\")]\n",
    "for archivo in archivos_root:\n",
    "    ruta_completa =os.path.join(carpeta, archivo)\n",
    "    chain.Add(ruta_completa)\n",
    "\n",
    "print(f\"Se han añadido {chain.GetEntries()} entradas de {len(archivos_root)} archivos .root\")\n",
    "archivo_salida = ROOT.TFile(\"output_concatenado.root\", \"RECREATE\")\n",
    "tree_copiado = chain.CloneTree(-1) \n",
    "\n",
    "\n",
    "archivo_salida.Write()\n",
    "archivo_salida.Close()\n",
    "\n",
    "print(f\"Archivo concatenado guardado como 'output_concatenado.root'\")\n"
   ]
  }
 ],
 "metadata": {
  "language_info": {
   "name": "python"
  }
 },
 "nbformat": 4,
 "nbformat_minor": 2
}
